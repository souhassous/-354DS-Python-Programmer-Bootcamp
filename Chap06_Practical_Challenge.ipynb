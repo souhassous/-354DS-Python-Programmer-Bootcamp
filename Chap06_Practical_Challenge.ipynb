{
 "cells": [
  {
   "cell_type": "code",
   "execution_count": null,
   "id": "1e9ea540",
   "metadata": {},
   "outputs": [],
   "source": [
    "'''\n",
    "Question 1\n",
    "Ask the user for two numbers between 1 and 100. Then count from the\n",
    "lower number to the higher number. Print the results to the screen.\n",
    "'''\n",
    "num_1 = int(input(\"Give me the first number :>>>>> \"))\n",
    "num_2 = int(input(\"Gibe me the seconde one  :>>>>> \"))\n",
    "\n",
    "print(num_1)\n",
    "print(num_2)\n",
    "\n",
    "first = min(num_1, num_2)\n",
    "last = max(num_1, num_2)\n",
    "\n",
    "print(first)\n",
    "print(last)\n",
    "\n",
    "for num in range(first, last + 1):\n",
    "    print(num, end=\" \")"
   ]
  },
  {
   "cell_type": "code",
   "execution_count": null,
   "id": "c1a963a9",
   "metadata": {},
   "outputs": [],
   "source": [
    "'''\n",
    "Question 2\n",
    "Ask the user to input a string and then print it out to the screen in\n",
    "reverse order (use a for loop).\n",
    "'''\n",
    "string = input(\"Give me a string to print out in the reverse order : >>>>> \")\n",
    "print(\"string =\",string)\n",
    "\n",
    "lenght = len(string)\n",
    "print (\"lenght =\",lenght)\n",
    "\n",
    "print(\"the string in the reverse order \")\n",
    "for i in range(1, lenght + 1):\n",
    "    print(string[-i], end=\" \")"
   ]
  },
  {
   "cell_type": "code",
   "execution_count": null,
   "id": "0ae81ed2",
   "metadata": {},
   "outputs": [],
   "source": [
    "'''\n",
    "Question 3\n",
    "Ask the user for a number between 1 and 12 and then display a times\n",
    "table for that number.\n",
    "'''\n",
    "\n",
    "number = int(input(\"Give me a number between 1 and 12: >>>> \"))\n",
    "if number <= 12 and number >= 1:\n",
    "    for i in range(1, 11):\n",
    "        print (number , \"x\", i, \"=\", number * i)\n",
    "        \n",
    "else:\n",
    "    print('Not the right number ')"
   ]
  },
  {
   "cell_type": "code",
   "execution_count": null,
   "id": "faf7fd43",
   "metadata": {},
   "outputs": [],
   "source": [
    "\"\"\"\n",
    "Question 4\n",
    "Can you amend the solution to question 3 so that it just prints out all\n",
    "times tables between 1 and 12? (no  need to ask user for input)\n",
    "\"\"\"\n",
    "\n",
    "for i in range(1,13):\n",
    "    for j in range (1,13):\n",
    "        print(i, \"x\", j , \"=\", i*j)"
   ]
  },
  {
   "cell_type": "code",
   "execution_count": 7,
   "id": "35ac807c",
   "metadata": {},
   "outputs": [
    {
     "name": "stdout",
     "output_type": "stream",
     "text": [
      "The 1 of 5\n",
      "Give me a number: >>>>> 15\n",
      "The 2 of 5\n",
      "Give me a number: >>>>> 21\n",
      "The 3 of 5\n",
      "Give me a number: >>>>> 1\n",
      "The 4 of 5\n",
      "Give me a number: >>>>> 2121\n",
      "The 5 of 5\n",
      "Give me a number: >>>>> 1213\n",
      "The result\n",
      "Sum 3371\n",
      "Mean 674.2\n"
     ]
    }
   ],
   "source": [
    "\"\"\"\n",
    "Question 5\n",
    "Ask the user to input a sequence of numbers. Then calculate the mean\n",
    "and print the result\n",
    "\"\"\"\n",
    "\n",
    "num_sum =0\n",
    "for i in range (1,6):\n",
    "    print(\"The\", i, \"of\", 5)\n",
    "    num = int(input(\"Give me a number: >>>>> \"))\n",
    "    num_sum += num\n",
    "print(\"The result\")\n",
    "print(\"Sum\", num_sum)\n",
    "print(\"Mean\", num_sum / 5)"
   ]
  },
  {
   "cell_type": "code",
   "execution_count": 21,
   "id": "4dfe8781",
   "metadata": {},
   "outputs": [
    {
     "name": "stdout",
     "output_type": "stream",
     "text": [
      "Give me a number to calculate his factorial : 5\n",
      "The factorail of the given number is:\n",
      "120\n"
     ]
    }
   ],
   "source": [
    "'''\n",
    "Question 6\n",
    "Write code that will calculate 15 factorial. (factorial is product of\n",
    "positive ints up to a given number. e.g 5 factorial is 5x4x3x2x1)\n",
    "'''\n",
    "num = int(input(\"Give me a number to calculate his factorial : \"))\n",
    "print (\"The factorail of the given number is:\")\n",
    "factorial = 1\n",
    "while num > 0:\n",
    "    factorial = factorial * num\n",
    "    num -= 1\n",
    "print(factorial)"
   ]
  },
  {
   "cell_type": "code",
   "execution_count": null,
   "id": "ad0dfe68",
   "metadata": {},
   "outputs": [],
   "source": [
    "'''\n",
    "Question 7\n",
    "Write code to calculate Fibonacci numbers. Create list containing\n",
    "first 20 Fibonacci numbers, (Fib  numbers made by sum of preceeding\n",
    "two. Series starts 0 1 1 2 3 5 8 13 ....)\n",
    "'''\n"
   ]
  }
 ],
 "metadata": {
  "kernelspec": {
   "display_name": "Python 3 (ipykernel)",
   "language": "python",
   "name": "python3"
  },
  "language_info": {
   "codemirror_mode": {
    "name": "ipython",
    "version": 3
   },
   "file_extension": ".py",
   "mimetype": "text/x-python",
   "name": "python",
   "nbconvert_exporter": "python",
   "pygments_lexer": "ipython3",
   "version": "3.9.12"
  }
 },
 "nbformat": 4,
 "nbformat_minor": 5
}
