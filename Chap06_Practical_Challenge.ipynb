{
 "cells": [
  {
   "cell_type": "code",
   "execution_count": 5,
   "id": "1e9ea540",
   "metadata": {},
   "outputs": [
    {
     "name": "stdout",
     "output_type": "stream",
     "text": [
      "5 6 "
     ]
    }
   ],
   "source": [
    "'''\n",
    "Question 1\n",
    "Ask the user for two numbers between 1 and 100. Then count from the\n",
    "lower number to the higher number. Print the results to the screen.\n",
    "'''\n",
    "num_1 = int(input(\"Give me the first number :>>>>> \"))\n",
    "num_2 = int(input(\"Gibe me the seconde one  :>>>>> \"))\n",
    "\n",
    "first = min(num_1, num_2)\n",
    "last = max(num_1, num_2)\n",
    "\n",
    "for num in range(first, last + 1):\n",
    "    print(num, end=\" \")"
   ]
  },
  {
   "cell_type": "code",
   "execution_count": 6,
   "id": "c1a963a9",
   "metadata": {},
   "outputs": [
    {
     "name": "stdout",
     "output_type": "stream",
     "text": [
      "string = 2\n",
      "lenght = 1\n",
      "the string in the reverse order \n",
      "2 "
     ]
    }
   ],
   "source": [
    "'''\n",
    "Question 2\n",
    "Ask the user to input a string and then print it out to the screen in\n",
    "reverse order (use a for loop).\n",
    "'''\n",
    "string = input(\"Give me a string to print out in the reverse order : >>>>> \")\n",
    "print(\"string =\",string)\n",
    "\n",
    "lenght = len(string)\n",
    "print (\"lenght =\",lenght)\n",
    "\n",
    "print(\"the string in the reverse order \")\n",
    "for i in range(1, lenght + 1):\n",
    "    print(string[-i], end=\" \")"
   ]
  },
  {
   "cell_type": "code",
   "execution_count": 7,
   "id": "0ae81ed2",
   "metadata": {},
   "outputs": [
    {
     "name": "stdout",
     "output_type": "stream",
     "text": [
      "3 x 1 = 3\n",
      "3 x 2 = 6\n",
      "3 x 3 = 9\n",
      "3 x 4 = 12\n",
      "3 x 5 = 15\n",
      "3 x 6 = 18\n",
      "3 x 7 = 21\n",
      "3 x 8 = 24\n",
      "3 x 9 = 27\n",
      "3 x 10 = 30\n"
     ]
    }
   ],
   "source": [
    "'''\n",
    "Question 3\n",
    "Ask the user for a number between 1 and 12 and then display a times\n",
    "table for that number.\n",
    "'''\n",
    "\n",
    "number = int(input(\"Give me a number between 1 and 12: >>>> \"))\n",
    "if number <= 12 and number >= 1:\n",
    "    for i in range(1, 11):\n",
    "        print (number , \"x\", i, \"=\", number * i)\n",
    "        \n",
    "else:\n",
    "    print('Not the right number ')"
   ]
  },
  {
   "cell_type": "code",
   "execution_count": 8,
   "id": "faf7fd43",
   "metadata": {},
   "outputs": [
    {
     "name": "stdout",
     "output_type": "stream",
     "text": [
      "1 x 1 = 1\n",
      "1 x 2 = 2\n",
      "1 x 3 = 3\n",
      "1 x 4 = 4\n",
      "1 x 5 = 5\n",
      "1 x 6 = 6\n",
      "1 x 7 = 7\n",
      "1 x 8 = 8\n",
      "1 x 9 = 9\n",
      "1 x 10 = 10\n",
      "1 x 11 = 11\n",
      "1 x 12 = 12\n",
      "2 x 1 = 2\n",
      "2 x 2 = 4\n",
      "2 x 3 = 6\n",
      "2 x 4 = 8\n",
      "2 x 5 = 10\n",
      "2 x 6 = 12\n",
      "2 x 7 = 14\n",
      "2 x 8 = 16\n",
      "2 x 9 = 18\n",
      "2 x 10 = 20\n",
      "2 x 11 = 22\n",
      "2 x 12 = 24\n",
      "3 x 1 = 3\n",
      "3 x 2 = 6\n",
      "3 x 3 = 9\n",
      "3 x 4 = 12\n",
      "3 x 5 = 15\n",
      "3 x 6 = 18\n",
      "3 x 7 = 21\n",
      "3 x 8 = 24\n",
      "3 x 9 = 27\n",
      "3 x 10 = 30\n",
      "3 x 11 = 33\n",
      "3 x 12 = 36\n",
      "4 x 1 = 4\n",
      "4 x 2 = 8\n",
      "4 x 3 = 12\n",
      "4 x 4 = 16\n",
      "4 x 5 = 20\n",
      "4 x 6 = 24\n",
      "4 x 7 = 28\n",
      "4 x 8 = 32\n",
      "4 x 9 = 36\n",
      "4 x 10 = 40\n",
      "4 x 11 = 44\n",
      "4 x 12 = 48\n",
      "5 x 1 = 5\n",
      "5 x 2 = 10\n",
      "5 x 3 = 15\n",
      "5 x 4 = 20\n",
      "5 x 5 = 25\n",
      "5 x 6 = 30\n",
      "5 x 7 = 35\n",
      "5 x 8 = 40\n",
      "5 x 9 = 45\n",
      "5 x 10 = 50\n",
      "5 x 11 = 55\n",
      "5 x 12 = 60\n",
      "6 x 1 = 6\n",
      "6 x 2 = 12\n",
      "6 x 3 = 18\n",
      "6 x 4 = 24\n",
      "6 x 5 = 30\n",
      "6 x 6 = 36\n",
      "6 x 7 = 42\n",
      "6 x 8 = 48\n",
      "6 x 9 = 54\n",
      "6 x 10 = 60\n",
      "6 x 11 = 66\n",
      "6 x 12 = 72\n",
      "7 x 1 = 7\n",
      "7 x 2 = 14\n",
      "7 x 3 = 21\n",
      "7 x 4 = 28\n",
      "7 x 5 = 35\n",
      "7 x 6 = 42\n",
      "7 x 7 = 49\n",
      "7 x 8 = 56\n",
      "7 x 9 = 63\n",
      "7 x 10 = 70\n",
      "7 x 11 = 77\n",
      "7 x 12 = 84\n",
      "8 x 1 = 8\n",
      "8 x 2 = 16\n",
      "8 x 3 = 24\n",
      "8 x 4 = 32\n",
      "8 x 5 = 40\n",
      "8 x 6 = 48\n",
      "8 x 7 = 56\n",
      "8 x 8 = 64\n",
      "8 x 9 = 72\n",
      "8 x 10 = 80\n",
      "8 x 11 = 88\n",
      "8 x 12 = 96\n",
      "9 x 1 = 9\n",
      "9 x 2 = 18\n",
      "9 x 3 = 27\n",
      "9 x 4 = 36\n",
      "9 x 5 = 45\n",
      "9 x 6 = 54\n",
      "9 x 7 = 63\n",
      "9 x 8 = 72\n",
      "9 x 9 = 81\n",
      "9 x 10 = 90\n",
      "9 x 11 = 99\n",
      "9 x 12 = 108\n",
      "10 x 1 = 10\n",
      "10 x 2 = 20\n",
      "10 x 3 = 30\n",
      "10 x 4 = 40\n",
      "10 x 5 = 50\n",
      "10 x 6 = 60\n",
      "10 x 7 = 70\n",
      "10 x 8 = 80\n",
      "10 x 9 = 90\n",
      "10 x 10 = 100\n",
      "10 x 11 = 110\n",
      "10 x 12 = 120\n",
      "11 x 1 = 11\n",
      "11 x 2 = 22\n",
      "11 x 3 = 33\n",
      "11 x 4 = 44\n",
      "11 x 5 = 55\n",
      "11 x 6 = 66\n",
      "11 x 7 = 77\n",
      "11 x 8 = 88\n",
      "11 x 9 = 99\n",
      "11 x 10 = 110\n",
      "11 x 11 = 121\n",
      "11 x 12 = 132\n",
      "12 x 1 = 12\n",
      "12 x 2 = 24\n",
      "12 x 3 = 36\n",
      "12 x 4 = 48\n",
      "12 x 5 = 60\n",
      "12 x 6 = 72\n",
      "12 x 7 = 84\n",
      "12 x 8 = 96\n",
      "12 x 9 = 108\n",
      "12 x 10 = 120\n",
      "12 x 11 = 132\n",
      "12 x 12 = 144\n"
     ]
    }
   ],
   "source": [
    "\"\"\"\n",
    "Question 4\n",
    "Can you amend the solution to question 3 so that it just prints out all\n",
    "times tables between 1 and 12? (no  need to ask user for input)\n",
    "\"\"\"\n",
    "\n",
    "for i in range(1,13):\n",
    "    for j in range (1,13):\n",
    "        print(i, \"x\", j , \"=\", i*j)"
   ]
  },
  {
   "cell_type": "code",
   "execution_count": 9,
   "id": "35ac807c",
   "metadata": {},
   "outputs": [
    {
     "name": "stdout",
     "output_type": "stream",
     "text": [
      "The 1 of 5\n",
      "The 2 of 5\n",
      "The 3 of 5\n",
      "The 4 of 5\n",
      "The 5 of 5\n",
      "The result\n",
      "Sum 25\n",
      "Mean 5.0\n"
     ]
    }
   ],
   "source": [
    "\"\"\"\n",
    "Question 5\n",
    "Ask the user to input a sequence of numbers. Then calculate the mean\n",
    "and print the result\n",
    "\"\"\"\n",
    "\n",
    "num_sum =0\n",
    "for i in range (1,6):\n",
    "    print(\"The\", i, \"of\", 5)\n",
    "    num = int(input(\"Give me a number: >>>>> \"))\n",
    "    num_sum += num\n",
    "print(\"The result\")\n",
    "print(\"Sum\", num_sum)\n",
    "print(\"Mean\", num_sum / 5)"
   ]
  },
  {
   "cell_type": "code",
   "execution_count": 10,
   "id": "4dfe8781",
   "metadata": {},
   "outputs": [
    {
     "name": "stdout",
     "output_type": "stream",
     "text": [
      "The factorail of the given number is:\n",
      "362880\n"
     ]
    }
   ],
   "source": [
    "'''\n",
    "Question 6\n",
    "Write code that will calculate 15 factorial. (factorial is product of\n",
    "positive ints up to a given number. e.g 5 factorial is 5x4x3x2x1)\n",
    "'''\n",
    "num = int(input(\"Give me a number to calculate his factorial : \"))\n",
    "print (\"The factorail of the given number is:\")\n",
    "factorial = 1\n",
    "while num > 0:\n",
    "    factorial = factorial * num\n",
    "    num -= 1\n",
    "print(factorial)"
   ]
  },
  {
   "cell_type": "code",
   "execution_count": 11,
   "id": "ad0dfe68",
   "metadata": {},
   "outputs": [
    {
     "name": "stdout",
     "output_type": "stream",
     "text": [
      "The fisrt 20 Fibonacci numbers : [0, 1, 1, 2, 3, 5, 8, 13, 21, 34, 55, 89, 144, 233, 377, 610, 987, 1597, 2584, 4181, 6765]\n"
     ]
    }
   ],
   "source": [
    "'''\n",
    "Question 7\n",
    "Write code to calculate Fibonacci numbers. Create list containing\n",
    "first 20 Fibonacci numbers, (Fib  numbers made by sum of preceeding\n",
    "two. Series starts 0 1 1 2 3 5 8 13 ....)\n",
    "'''\n",
    "fib_list = [0,1]\n",
    "lenght = 20\n",
    "for i in range(1,9999):\n",
    "    if len(fib_list) <= lenght:\n",
    "        fib_list.append(fib_list[i] + fib_list[i-1])\n",
    "    else:\n",
    "        break\n",
    "    #print(len(fib_list))\n",
    "print(\"The fisrt\",lenght, \"Fibonacci numbers :\" ,fib_list)"
   ]
  },
  {
   "cell_type": "code",
   "execution_count": 12,
   "id": "ea95723c",
   "metadata": {},
   "outputs": [
    {
     "data": {
      "text/plain": [
       "'\\nQuestion 8\\nThe previous question was the first to contain comments. Go back\\nthrough the other questions in this file and add comments to the\\nsolutions.\\n'"
      ]
     },
     "execution_count": 12,
     "metadata": {},
     "output_type": "execute_result"
    }
   ],
   "source": [
    "'''\n",
    "Question 8\n",
    "The previous question was the first to contain comments. Go back\n",
    "through the other questions in this file and add comments to the\n",
    "solutions.\n",
    "'''"
   ]
  },
  {
   "cell_type": "code",
   "execution_count": 32,
   "id": "2cf36924",
   "metadata": {},
   "outputs": [
    {
     "name": "stdout",
     "output_type": "stream",
     "text": [
      "* * * * *\n",
      "*\n",
      "* * * *\n",
      "*\n",
      "*\n",
      "*\n"
     ]
    }
   ],
   "source": [
    "'''\n",
    "Question 9\n",
    "\n",
    "     *****\n",
    "     *\n",
    "     ****\n",
    "     *\n",
    "     *\n",
    "     *\n",
    "Can you draw this using python? (comment the solution code)\n",
    "'''\n",
    "\n",
    "for i in range(1,7):\n",
    "    for j in range(1,6):\n",
    "        if i ==1 and j < 5:\n",
    "            print(\"*\", end=\" \")\n",
    "        elif i == 2 and j < 3:\n",
    "            print(\"*\")\n",
    "        elif i==3 and j < 4:\n",
    "            print('*', end=\" \")\n",
    "        elif i > 4 and j < 3:\n",
    "            print(\"*\") "
   ]
  },
  {
   "cell_type": "code",
   "execution_count": 38,
   "id": "43bde7d5",
   "metadata": {},
   "outputs": [
    {
     "name": "stdout",
     "output_type": "stream",
     "text": [
      "[2, 4, 6, 8, 10, 12, 14, 16, 18, 20, 22, 24, 26, 28, 30, 32, 34, 36, 38, 40, 42, 44, 46, 48, 50, 52, 54, 56, 58, 60, 62, 64, 66, 68, 70, 72, 74, 76, 78, 80, 82, 84, 86, 88, 90, 92, 94, 96, 98, 100]\n",
      "[1, 3, 5, 7, 9, 11, 13, 15, 17, 19, 21, 23, 25, 27, 29, 31, 33, 35, 37, 39, 41, 43, 45, 47, 49, 51, 53, 55, 57, 59, 61, 63, 65, 67, 69, 71, 73, 75, 77, 79, 81, 83, 85, 87, 89, 91, 93, 95, 97, 99]\n"
     ]
    }
   ],
   "source": [
    "'''\n",
    "Question 10\n",
    "Write some code that will determine all odd and even numbers\n",
    "between 1 and 100. Put the odds in a list named odd and the evens\n",
    "in a list named even.\n",
    "'''\n",
    "\n",
    "odd = []\n",
    "even = []\n",
    "\n",
    "for i in range (1,101):\n",
    "    if i % 2 == 0 :\n",
    "        odd.append(i)\n",
    "    else:\n",
    "        even.append(i)\n",
    "print(odd)\n",
    "print(even)\n"
   ]
  }
 ],
 "metadata": {
  "kernelspec": {
   "display_name": "Python 3 (ipykernel)",
   "language": "python",
   "name": "python3"
  },
  "language_info": {
   "codemirror_mode": {
    "name": "ipython",
    "version": 3
   },
   "file_extension": ".py",
   "mimetype": "text/x-python",
   "name": "python",
   "nbconvert_exporter": "python",
   "pygments_lexer": "ipython3",
   "version": "3.9.12"
  }
 },
 "nbformat": 4,
 "nbformat_minor": 5
}
